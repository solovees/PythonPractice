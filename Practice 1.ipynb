{
 "cells": [
  {
   "cell_type": "markdown",
   "metadata": {},
   "source": [
    "# Задание 1:\n",
    "Напишите классический `\"Hello, world!\"`"
   ]
  },
  {
   "cell_type": "code",
   "execution_count": 2,
   "metadata": {},
   "outputs": [
    {
     "name": "stdout",
     "output_type": "stream",
     "text": [
      "Hello,world!\n"
     ]
    }
   ],
   "source": [
    "print(\"Hello,world!\")"
   ]
  },
  {
   "cell_type": "markdown",
   "metadata": {},
   "source": [
    "# Задание 2:\n",
    "Напишите функцию, принимающую 2 числа и возвращающую первое число, возведённое в степень, указанную вторым."
   ]
  },
  {
   "cell_type": "code",
   "execution_count": 6,
   "metadata": {},
   "outputs": [
    {
     "data": {
      "text/plain": [
       "4"
      ]
     },
     "execution_count": 6,
     "metadata": {},
     "output_type": "execute_result"
    }
   ],
   "source": [
    "def myfunc(a,b):\n",
    "    return (a**b)\n",
    "myfunc(2,2)"
   ]
  },
  {
   "cell_type": "markdown",
   "metadata": {},
   "source": [
    "# Задание 3:\n",
    "Написать блок if-elif-else, который выдаёт \"positive\", если $a$ положительное, \"negative\", если отрицательное и \"zero\", если равно 0."
   ]
  },
  {
   "cell_type": "code",
   "execution_count": 10,
   "metadata": {},
   "outputs": [
    {
     "name": "stdout",
     "output_type": "stream",
     "text": [
      "-2\n",
      "negative\n"
     ]
    }
   ],
   "source": [
    "a = int(input())\n",
    "if (a>0):\n",
    "    print(\"positive\")\n",
    "elif (a<0):\n",
    "    print(\"negative\")\n",
    "else:\n",
    "    print(\"zero\")\n"
   ]
  },
  {
   "cell_type": "markdown",
   "metadata": {},
   "source": [
    "# Задание 4:\n",
    "Написать функцию, которая принимает целое положительное число n и печатает числа от 0 до n."
   ]
  },
  {
   "cell_type": "code",
   "execution_count": 14,
   "metadata": {},
   "outputs": [
    {
     "name": "stdout",
     "output_type": "stream",
     "text": [
      "1\n",
      "2\n",
      "3\n",
      "4\n",
      "5\n",
      "6\n",
      "7\n",
      "8\n",
      "9\n",
      "10\n"
     ]
    }
   ],
   "source": [
    "def func1(a):\n",
    "    for i in range(a):\n",
    "        print(i+1)\n",
    "func1(10)\n",
    "        "
   ]
  },
  {
   "cell_type": "markdown",
   "metadata": {},
   "source": [
    "# Задание 5:\n",
    "Написать функцию, принимающую список чисел и возвращающую список квадратов этих чисел."
   ]
  },
  {
   "cell_type": "code",
   "execution_count": 16,
   "metadata": {},
   "outputs": [
    {
     "data": {
      "text/plain": [
       "[1, 4, 9, 16]"
      ]
     },
     "execution_count": 16,
     "metadata": {},
     "output_type": "execute_result"
    }
   ],
   "source": [
    "def func1(lst):\n",
    "    return [e**2 for e in lst]\n",
    "    \n",
    "func1([1,2,3,4])\n",
    "        \n",
    "    "
   ]
  },
  {
   "cell_type": "markdown",
   "metadata": {},
   "source": [
    "# Задание 6:\n",
    "На вход подаётся список чисел. Нужно вернуть сумму элементов под чётными номерами (включая 0), умноженную на длину списка.  \n",
    "Например:  \n",
    "`l = [2, 100, 1]  \n",
    "f(l) -> 9`"
   ]
  },
  {
   "cell_type": "code",
   "execution_count": 81,
   "metadata": {},
   "outputs": [
    {
     "name": "stdout",
     "output_type": "stream",
     "text": [
      "Введите количество элементов\n",
      "2\n",
      "введите число\n",
      "2\n",
      "введите число\n",
      "2\n",
      "4\n"
     ]
    }
   ],
   "source": [
    "print(\"Введите количество элементов\")\n",
    "a=int(input())\n",
    "lst1 =[]\n",
    "for i in range(a): #заполнение массива\n",
    "    print(\"введите число\")\n",
    "    lst1.append(int(input()))\n",
    "print(sum(lst1[::2])*len(lst1)) #суммирует элемнты и умножает на длинну списка\n",
    "\n",
    "  \n"
   ]
  },
  {
   "cell_type": "markdown",
   "metadata": {},
   "source": [
    "# Задание 7:\n",
    "На вход подаётся список чисел. Нужно вернуть список НЕ уникальных элементов.  \n",
    "Примеры корректного выполнения:\n",
    "```python\n",
    "        my_func([1, 2, 3, 1, 3]) == [1, 3, 1, 3]\n",
    "        my_func([1, 2, 3, 4, 5]) == []\n",
    "        my_func([5, 5, 5, 5, 5]) == [5, 5, 5, 5, 5]\n",
    "        my_func([10, 9, 10, 10, 9, 8]) == [10, 9, 10, 10, 9]\n",
    "```"
   ]
  },
  {
   "cell_type": "code",
   "execution_count": 1,
   "metadata": {},
   "outputs": [
    {
     "name": "stdout",
     "output_type": "stream",
     "text": [
      "Введите количество элементов\n",
      "5\n",
      "введите число\n",
      "1\n",
      "введите число\n",
      "2\n",
      "введите число\n",
      "3\n",
      "введите число\n",
      "1\n",
      "введите число\n",
      "3\n",
      "[1, 3, 1, 3]\n"
     ]
    }
   ],
   "source": [
    "print(\"Введите количество элементов\")\n",
    "a=int(input())\n",
    "lst1 =[]\n",
    "for i in range(a): #заполнение массива\n",
    "    print(\"введите число\")\n",
    "    lst1.append(int(input()))\n",
    "d={}\n",
    "i=0\n",
    "for e in lst1:\n",
    "    d[e]=d.get(e,0)+1\n",
    "print([e for e in lst1 if d[e]>1])\n",
    "\n",
    "\n",
    "    \n",
    "    \n",
    "#[e for e in lst1 if lst1.count(e)>1]\n",
    "\n"
   ]
  },
  {
   "cell_type": "markdown",
   "metadata": {},
   "source": [
    "# Задание 8:\n",
    "## На вход подаётся целое число. Если оно делится на 3 вернуть Fizz, если делится на 5 - Buzz, на 3 и 5 - Fizz Buzz, иначе вернуть это число в формате строки.\n",
    "```python\n",
    "# Так можно получить остаток от деления a на b\n",
    "a % b\n",
    "# Так выполняется преобразование числа в строку\n",
    "s = str(14)\n",
    "```"
   ]
  },
  {
   "cell_type": "code",
   "execution_count": null,
   "metadata": {
    "collapsed": true
   },
   "outputs": [],
   "source": [
    "def funcX(a):\n",
    "    if(a%3==0 and a%5==0):\n",
    "        return \"Fizz Buzz\"\n",
    "    elif(a%5==0):\n",
    "        return \"Buzz\"\n",
    "    elif (a%3==0):\n",
    "        return \"Fizz\"\n",
    "    else:\n",
    "        return str(a)\n",
    "funcX(int(input()))"
   ]
  },
  {
   "cell_type": "code",
   "execution_count": null,
   "metadata": {
    "collapsed": true
   },
   "outputs": [],
   "source": []
  }
 ],
 "metadata": {
  "anaconda-cloud": {},
  "kernelspec": {
   "display_name": "Python 3",
   "language": "python",
   "name": "python3"
  },
  "language_info": {
   "codemirror_mode": {
    "name": "ipython",
    "version": 3
   },
   "file_extension": ".py",
   "mimetype": "text/x-python",
   "name": "python",
   "nbconvert_exporter": "python",
   "pygments_lexer": "ipython3",
   "version": "3.6.1"
  }
 },
 "nbformat": 4,
 "nbformat_minor": 1
}

{
 "cells": [
  {
   "cell_type": "markdown",
   "metadata": {},
   "source": [
    "# Задание 1:\n",
    "\n",
    "   Напишите свой токенизатор. Токенизатор - это программа, которая на вход получает некоторый текст в виде единой строки, а выдаёт список токенов - слов и знаков препинания для последующего анализа.    \n",
    "\n",
    "     Над диван-кроватью висела полочка. На ней лежала книга Ф. М. Достоевского \"Идиот\". Она сказала: \"Я купила её в Санкт-Петербурге за 9 р. 50 коп., а этот плакат - в Нью-Йорке за 1.2$\".  \n",
    "     Нефть подорожала на 2,5%.  \n",
    "     Л.Н.Толстой и др. писатели."
   ]
  },
  {
   "cell_type": "code",
   "execution_count": 48,
   "metadata": {},
   "outputs": [
    {
     "data": {
      "text/plain": [
       "['Над',\n",
       " 'диван-кроватью',\n",
       " 'висела',\n",
       " 'полочка',\n",
       " '.',\n",
       " 'На',\n",
       " 'ней',\n",
       " 'лежала',\n",
       " 'книга',\n",
       " 'Ф. М. Достоевского',\n",
       " '\"Идиот\"',\n",
       " '.',\n",
       " 'Она',\n",
       " 'сказала',\n",
       " ':',\n",
       " '\"',\n",
       " 'Я',\n",
       " 'купила',\n",
       " 'её',\n",
       " 'в',\n",
       " 'Санкт-Петербурге',\n",
       " 'за',\n",
       " '9 р. 50 коп.',\n",
       " ',',\n",
       " 'а',\n",
       " 'этот',\n",
       " 'плакат',\n",
       " '-',\n",
       " 'в',\n",
       " 'Нью-Йорке',\n",
       " 'за',\n",
       " '1.2$',\n",
       " '\"',\n",
       " '.',\n",
       " 'Нефть',\n",
       " 'подорожала',\n",
       " 'на',\n",
       " '2,5%',\n",
       " '.',\n",
       " 'Л.Н.Толстой',\n",
       " 'и',\n",
       " 'др.',\n",
       " 'писатели',\n",
       " '.']"
      ]
     },
     "execution_count": 48,
     "metadata": {},
     "output_type": "execute_result"
    }
   ],
   "source": [
    "import re\n",
    "text = '''Над диван-кроватью висела полочка. На ней лежала книга Ф. М. Достоевского \"Идиот\". Она сказала: \"Я купила её в Санкт-Петербурге за 9 р. 50 коп., а этот плакат - в Нью-Йорке за 1.2$\".  \n",
    " Нефть подорожала на 2,5%.  \n",
    " Л.Н.Толстой и др. писатели.'''\n",
    "re.findall(r'''(?x)\n",
    "           др[.]|      #шаблон для сокращения др.\n",
    "           \\d+\\s?\\w?[.]\\s?\\w+\\s\\w+[.]|\n",
    "           \\d+(?:[.,]\\d+)?[%$]|\n",
    "           [\"]\\w+[\"]|\n",
    "           \\w[.]\\s?\\w[.]\\s?\\w+|\n",
    "           [\\w-]+|\n",
    "           \\S''', text)\n",
    "\n",
    "\n",
    "#шаблон для ценовой абревеатуры с руб. и коп.\n",
    "#шаблон для числа, возможно дробного у которого присутсвует знак после числа\n",
    "#шаблон для денег или процентов\n",
    "#шаблон для слова в кавычках\n",
    "#шаблон для ФИО\n",
    "#шаблон для слова через тире и обычных слов\n",
    "#шаблон для не пробелного символа\n",
    "#\\d — любая цифра.\n",
    "#\\w — любая цифра, буква или символ подчеркивания.\n",
    "#\\s — любой пробельный символ.\n",
    "#\\S — не пробельный символ.\n",
    "#? - ни одного или одно вхождение символа.\n",
    "#+ - одно или большее число вхождений."
   ]
  },
  {
   "cell_type": "markdown",
   "metadata": {},
   "source": [
    "# Задание 2:\n",
    "\n",
    "Напишите лексический анализатор программ, написанных на Python. Ваша программа должна считывать текстовый файл, содержащий код, написанный на Python. Затем проводить его лексический анализ - заменять каждую лексему (название встроенной функции, оператор, ключевое слово, имя переменной и т.д.) на соответствующий токен (класс лексем). Подробнее о токенах смотрите ниже.  \n",
    "Формат вывода: на консоль выводится сначала строчка исходного кода, а затем строка содержащая только токены. Смотрите ниже пример ввода и вывода.\n",
    "```python\n",
    "# Key words - ключевые слова:\n",
    "and, as, assert, break, class, continue, def, del, elif, else, except, finally, for, from, global, if, import, in, is, lambda, not, or, pass, raise, return, try, while, with, yield\n",
    "# Built-in functions - встроенные функции\n",
    "abs, all, any, bin, callable, chr, classmethod, compile, delattr, dir, divmod, enumerate, eval, exec, filter, format, getattr, globals, hasattr, hash, help, hex, id, input, isinstance, issubclass, iter, len, locals, map, max, min, next, oct, open, ord, print, pow, repr, reversed, round, setattr, sorted, staticmethod, sum, super, vars, zip\n",
    "# Operators - операторы\n",
    "+, -, *, /, //, **, <<, >>, <, >, <=, >=, ==, !=, &, |, ^, ~, %\n",
    "# Literals - литералы простых типов\n",
    "    # Numbers - числа, например:\n",
    "    1, 0.124, -178, .3\n",
    "    # Strings (including unicode) - строки, например:\n",
    "    r'Hi', \"Hi\", \"\"\"Hi,\n",
    "    this\n",
    "    is\n",
    "    a\n",
    "    long\n",
    "    string\"\"\", '''Hi'''\n",
    "    # Boolean - логические:\n",
    "    True, False\n",
    "# Identifiers - идентификаторы (названия переменных, функций, атрибутов и методов)\n",
    "    # Var - переменные\n",
    "    m, m1, _\n",
    "    # Function\n",
    "    my_func()\n",
    "    # Method\n",
    "    my_class.method()\n",
    "    # Attribute\n",
    "    my_class.attribute\n",
    "# Comments - комментарии:\n",
    "# Это пример комментария\n",
    "```\n",
    "\n",
    "#### Пример\n",
    "Вход:\n",
    "```python\n",
    "f = open('mbox.txt', 'r')\n",
    "d = {}\n",
    "# From stephen.marquard@uct.ac.za Sat Jan  5 09:14:16 2008\n",
    "for line in f:\n",
    "    if line.startswith('From '): # Начинается с From\n",
    "        email = line.split()[1]\n",
    "        domen = email.split('@')[1]\n",
    "        org = domen.split('.')[0]\n",
    "        d[org] = d.get(org, 0) + 1\n",
    "        \n",
    "print(d)\n",
    "```\n",
    "\n",
    "Выход:  \n",
    "\n",
    "\n",
    "f = open('mbox.txt', 'r')  \n",
    "\\$VAR\\$ = \\$BI_FUNCTION(\\$STRING\\$, \\$STRING\\$)  \n",
    "d = {}  \n",
    "\\$VAR\\$ = {}  \n",
    "\\# From stephen.marquard@uct.ac.za Sat Jan  5 09:14:16 2008  \n",
    "\\$COMMENT\\$  \n",
    "for line in f:  \n",
    "\\$K_WORD\\$ \\$VAR\\$ \\$K_WORD\\$ \\$VAR\\$:  \n",
    "    if line.startswith('From '): # Начинается с From  \n",
    "    \\$K_WORD\\$ \\$VAR\\$.\\$METHOD(\\$STRING\\$): \\$COMMENT\\$  \n",
    "        email = line.split()[1]  \n",
    "        \\$VAR\\$ = \\$VAR\\$.\\$METHOD()[\\$NUMBER\\$]  \n",
    "        domen = email.split('@')[1]  \n",
    "        \\$VAR\\$ = \\$VAR\\$.\\$METHOD(\\$STRING\\$)[\\$NUMBER\\$]  \n",
    "        org = domen.split('.')[0]  \n",
    "        \\$VAR\\$ = \\$VAR\\$.\\$METHOD(\\$STRING\\$)[\\$NUMBER\\$]  \n",
    "        d[org] = d.get(org, 0) + 1  \n",
    "        \\$VAR\\$[\\$VAR\\$] = \\$VAR\\$.\\$METHOD(\\$VAR\\$, \\$NUMBER\\$) \\$OPERATOR\\$ \\$NUMBER\\$  \n",
    "  \n",
    "  \n",
    "print(d)  \n",
    "\\$BI_FUNCTION(\\$VAR\\$)\n",
    "\n"
   ]
  },
  {
   "cell_type": "code",
   "execution_count": 1,
   "metadata": {},
   "outputs": [
    {
     "name": "stdout",
     "output_type": "stream",
     "text": [
      "f = open('mbox.txt', 'r')\n",
      "$VAR$ = $BI_FUNCTION($STRING$, $STRING$)\n",
      "\n",
      "d = {}\n",
      "$VAR$ = {}\n",
      "\n",
      "# From stephen.marquard@uct.ac.za Sat Jan  5 09:14:16 2008\n",
      "$COMMENT$\n",
      "\n",
      "for line in f:\n",
      "$K_WORD$ $VAR$ $K_WORD$ $VAR$:\n",
      "\n",
      "    if line.startswith('From '): # Начинается с From\n",
      "    $K_WORD$ $VAR$.$METHOD('From '): $COMMENT$\n",
      "\n",
      "        email = line.split()[1]\n",
      "        $VAR$ = $VAR$.$METHOD()[$NUMBER$]\n",
      "\n",
      "        domen = email.split('@')[1]\n",
      "        $VAR$ = $VAR$.$METHOD($STRING$)[$NUMBER$]\n",
      "\n",
      "        org = domen.split('.')[0]\n",
      "        $VAR$ = $VAR$.$METHOD($STRING$)[$NUMBER$]\n",
      "\n",
      "        d[org] = d.get(org, 0) + 1\n",
      "        $VAR$[$VAR$] = $VAR$.$METHOD($VAR$, $NUMBER$) $OPERATOR$ $NUMBER$\n",
      "\n",
      "\n",
      "\n",
      "\n",
      "print(d)\n",
      "$BI_FUNCTION($VAR$)\n",
      "\n"
     ]
    }
   ],
   "source": [
    "import re\n",
    "f = open('input.txt', 'r')\n",
    "PythonCode = (f.read()).split('\\n')\n",
    "# Создадим словарb ключ-значение для некоторых из лексем\n",
    "d = {}\n",
    "d['$K_WORD$']=['and', 'as', 'assert', 'break', 'class', 'continue', 'def', 'del', 'elif', 'else', 'except', 'finally', 'for', 'from', 'global', 'if', 'import', 'in', 'is', 'lambda', 'not', 'or', 'pass', 'raise', 'return', 'try', 'while', 'with', 'yield']\n",
    "d['$OPERATOR$']=['\\+', '-', '\\*', '/', '//', '\\*\\*', '<<', '>>', '<', '>', '<=', '>=', '==', '!=', '&', '\\|', '\\^', '~', '%']\n",
    "d['$BI_FUNCTION'] = ['abs', 'all', 'any', 'bin', 'callable', 'chr', 'classmethod', 'compile', 'delattr', 'dir', 'divmod', 'enumerate', 'eval', 'exec', 'filter', 'format', 'getattr', 'globals', 'hasattr', 'hash', 'help', 'hex', 'id', 'input', 'isinstance', 'issubclass', 'iter', 'len', 'locals', 'map', 'max', 'min', 'next', 'oct', 'open', 'ord', 'print', 'pow', 'repr', 'reversed', 'round', 'setattr', 'sorted', 'staticmethod', 'sum', 'super', 'vars', 'zip']\n",
    "\n",
    "t = (   (r'$COMMENT$' , r'[#](.)+'),\n",
    "        (r'$STRING$', r'[\\']+[a-z.0-9@A-Z]+[\\']'),\n",
    "        (r'$K_WORD$' , r'\\b(?:' + '|'.join(d['$K_WORD$']) + r')\\b' ),\n",
    "        (r'$OPERATOR$',  '|'.join(d['$OPERATOR$']) ),\n",
    "        (r'$OPERATOR$', r'\\b(?:and|is|not|or)\\b'),\n",
    "        (r'$BI_FUNCTION' , r'\\b(?:' + '|'.join(d['$BI_FUNCTION']) + r')\\b' ),\n",
    "        (r'$NUMBER$' , r'[0-9]+'),\n",
    "        (r'.$METHOD(' , r'[.]\\w+[(]'),\n",
    "        (r'\\1$VAR$', r'([ \\(\\[,.+|-]|^)[a-zA-Z_]\\w*'),\n",
    "        (r'$ATTRIBUTE$', r'(?:[\\w]+[.][A-Za-z][\\w]+)')\n",
    "       \n",
    "    )\n",
    "\n",
    "for line in PythonCode:\n",
    "    print(line)\n",
    "    str1 = line\n",
    "    for token, pattern in t:\n",
    "        str1 = re.sub(pattern, token, str1)\n",
    "    print(str1+'\\n')\n",
    "    \n",
    "    \n",
    "    \n",
    "\n",
    "\n",
    "\n",
    "\n",
    "#\\d — любая цифра.\n",
    "#\\w — любая цифра, буква или символ подчеркивания.\n",
    "#\\s — любой пробельный символ.\n",
    "#\\S — не пробельный символ.\n",
    "#? - ни одного или одно вхождение символа.\n",
    "#+ - одно или большее число вхождений.\n",
    "#^ - символ начала строки\n",
    "\n",
    "\n",
    "\n",
    "\n",
    "\n",
    "\n",
    "#(r'$VAR$ =', r'\\w+(?:\\s[=])'),\n",
    "#       (r'$VAR$[', r'\\w+[\\[]'),\n",
    "#      (r'($VAR$', r'[(]\\w+[)]'),\n",
    "#       (r'($VAR$,', r'[(]\\w+[,]'),\n",
    "#       (r' $VAR$.', r'\\s\\w+[.]'),\n",
    "#       (r' $VAR$ ', r'\\s\\w+\\s'),\n",
    "#       (r'[$VAR$]', r'[\\[]\\w+[\\]]')\n",
    "\n",
    "\n",
    "\n",
    "\n",
    "\n",
    "\n",
    "\n",
    "\n",
    "\n",
    "\n",
    "\n",
    "\n",
    "\n",
    "\n",
    "\n",
    "\n",
    "\n",
    "\n",
    "            \n",
    "                \n",
    "\n"
   ]
  },
  {
   "cell_type": "code",
   "execution_count": 84,
   "metadata": {},
   "outputs": [
    {
     "data": {
      "text/plain": [
       "'KW e KW line'"
      ]
     },
     "execution_count": 84,
     "metadata": {},
     "output_type": "execute_result"
    }
   ],
   "source": [
    "re.sub(r'\\b(?:in|for)\\b', 'KW', 'for e in line')"
   ]
  },
  {
   "cell_type": "code",
   "execution_count": 137,
   "metadata": {},
   "outputs": [
    {
     "data": {
      "text/plain": [
       "'\\\\b(?:\\\\+|-|\\\\*|/|//|\\\\*\\\\*|<<|>>|<|>|<=|>=|==|!=|&|||^|~|%|and|is|not|or)\\\\b'"
      ]
     },
     "execution_count": 137,
     "metadata": {},
     "output_type": "execute_result"
    }
   ],
   "source": [
    "#r'\\b(?:' + '|'.join(d['$K_WORD$']) + r')\\b'\n",
    "r'\\b(?:' + '|'.join(d['$OPERATOR$']) + r')\\b'"
   ]
  },
  {
   "cell_type": "code",
   "execution_count": 49,
   "metadata": {},
   "outputs": [
    {
     "ename": "TypeError",
     "evalue": "expected string or bytes-like object",
     "output_type": "error",
     "traceback": [
      "\u001b[1;31m---------------------------------------------------------------------------\u001b[0m",
      "\u001b[1;31mTypeError\u001b[0m                                 Traceback (most recent call last)",
      "\u001b[1;32m<ipython-input-49-98fcba12b788>\u001b[0m in \u001b[0;36m<module>\u001b[1;34m()\u001b[0m\n\u001b[0;32m      1\u001b[0m \u001b[0mf\u001b[0m \u001b[1;33m=\u001b[0m \u001b[0mopen\u001b[0m\u001b[1;33m(\u001b[0m\u001b[1;34m'input.txt'\u001b[0m\u001b[1;33m,\u001b[0m \u001b[1;34m'r'\u001b[0m\u001b[1;33m)\u001b[0m\u001b[1;33m\u001b[0m\u001b[0m\n\u001b[0;32m      2\u001b[0m \u001b[0mPythonCode\u001b[0m \u001b[1;33m=\u001b[0m \u001b[1;33m(\u001b[0m\u001b[0mf\u001b[0m\u001b[1;33m.\u001b[0m\u001b[0mread\u001b[0m\u001b[1;33m(\u001b[0m\u001b[1;33m)\u001b[0m\u001b[1;33m)\u001b[0m\u001b[1;33m.\u001b[0m\u001b[0msplit\u001b[0m\u001b[1;33m(\u001b[0m\u001b[1;34m'\\n'\u001b[0m\u001b[1;33m)\u001b[0m\u001b[1;33m\u001b[0m\u001b[0m\n\u001b[1;32m----> 3\u001b[1;33m \u001b[0mre\u001b[0m\u001b[1;33m.\u001b[0m\u001b[0mfindall\u001b[0m\u001b[1;33m(\u001b[0m\u001b[1;34mr'([ \\(\\[,.+|-]|^)[a-zA-Z_]\\w*'\u001b[0m\u001b[1;33m,\u001b[0m \u001b[0mPythonCode\u001b[0m\u001b[1;33m)\u001b[0m\u001b[1;33m\u001b[0m\u001b[0m\n\u001b[0m\u001b[0;32m      4\u001b[0m \u001b[0mprint\u001b[0m\u001b[1;33m(\u001b[0m\u001b[0mPythonCode\u001b[0m\u001b[1;33m)\u001b[0m\u001b[1;33m\u001b[0m\u001b[0m\n",
      "\u001b[1;32mC:\\Anaconda\\lib\\re.py\u001b[0m in \u001b[0;36mfindall\u001b[1;34m(pattern, string, flags)\u001b[0m\n\u001b[0;32m    220\u001b[0m \u001b[1;33m\u001b[0m\u001b[0m\n\u001b[0;32m    221\u001b[0m     Empty matches are included in the result.\"\"\"\n\u001b[1;32m--> 222\u001b[1;33m     \u001b[1;32mreturn\u001b[0m \u001b[0m_compile\u001b[0m\u001b[1;33m(\u001b[0m\u001b[0mpattern\u001b[0m\u001b[1;33m,\u001b[0m \u001b[0mflags\u001b[0m\u001b[1;33m)\u001b[0m\u001b[1;33m.\u001b[0m\u001b[0mfindall\u001b[0m\u001b[1;33m(\u001b[0m\u001b[0mstring\u001b[0m\u001b[1;33m)\u001b[0m\u001b[1;33m\u001b[0m\u001b[0m\n\u001b[0m\u001b[0;32m    223\u001b[0m \u001b[1;33m\u001b[0m\u001b[0m\n\u001b[0;32m    224\u001b[0m \u001b[1;32mdef\u001b[0m \u001b[0mfinditer\u001b[0m\u001b[1;33m(\u001b[0m\u001b[0mpattern\u001b[0m\u001b[1;33m,\u001b[0m \u001b[0mstring\u001b[0m\u001b[1;33m,\u001b[0m \u001b[0mflags\u001b[0m\u001b[1;33m=\u001b[0m\u001b[1;36m0\u001b[0m\u001b[1;33m)\u001b[0m\u001b[1;33m:\u001b[0m\u001b[1;33m\u001b[0m\u001b[0m\n",
      "\u001b[1;31mTypeError\u001b[0m: expected string or bytes-like object"
     ]
    }
   ],
   "source": [
    "f = open('input.txt', 'r')\n",
    "PythonCode = (f.read()).split('\\n')\n",
    "re.findall(r'([ \\(\\[,.+|-]|^)[a-zA-Z_]\\w*', PythonCode)\n",
    "print(PythonCode)"
   ]
  },
  {
   "cell_type": "code",
   "execution_count": null,
   "metadata": {
    "collapsed": true
   },
   "outputs": [],
   "source": [
    "['f =',\n",
    " 'd =',\n",
    " ' stephen.',\n",
    " ' line.',\n",
    " 'email =',\n",
    " ' line.',\n",
    " 'domen =',\n",
    " ' email.',\n",
    " 'org =',\n",
    " ' domen.',\n",
    " 'd[',\n",
    " ' d.',\n",
    " '(org,',\n",
    " '(d)']"
   ]
  },
  {
   "cell_type": "code",
   "execution_count": null,
   "metadata": {
    "collapsed": true
   },
   "outputs": [],
   "source": []
  }
 ],
 "metadata": {
  "anaconda-cloud": {},
  "kernelspec": {
   "display_name": "Python 3",
   "language": "python",
   "name": "python3"
  },
  "language_info": {
   "codemirror_mode": {
    "name": "ipython",
    "version": 3
   },
   "file_extension": ".py",
   "mimetype": "text/x-python",
   "name": "python",
   "nbconvert_exporter": "python",
   "pygments_lexer": "ipython3",
   "version": "3.6.1"
  }
 },
 "nbformat": 4,
 "nbformat_minor": 1
}

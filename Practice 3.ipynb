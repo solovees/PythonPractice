{
 "cells": [
  {
   "cell_type": "markdown",
   "metadata": {},
   "source": [
    "### Задание 0:\n",
    "(Здесь регулярные выражения НЕ нужны)\n",
    "\n",
    "Анаграммы - это игра со словами, в которой переставляя в словах или фразах буквы местами, мы получаем новые слова или фразы. Два слова анаграммы друг для друга, если одно можно получить из другого перестановкой букв. Также для анаграмм регистр букв и пробелы не имеют значения. Для примера, \"Gram Ring Mop\" и \"Programming\" -- анаграммы. Но вот \"Hello\" и \"Ole Oh\" уже нет.\n",
    "\n",
    "Итак, вам даны два слова или фразы. Попробуйте определить анаграммы ли они друг для друга. \n",
    "\n",
    "Примеры:\n",
    "\n",
    "```python\n",
    "verify_anagrams(\"Programming\", \"Gram Ring Mop\") == True\n",
    "verify_anagrams(\"Hello\", \"Ole Oh\") == False\n",
    "verify_anagrams(\"Kyoto\", \"Tokyo\") == True\n",
    "```"
   ]
  },
  {
   "cell_type": "code",
   "execution_count": 111,
   "metadata": {},
   "outputs": [
    {
     "name": "stdout",
     "output_type": "stream",
     "text": [
      "True\n",
      "False\n"
     ]
    }
   ],
   "source": [
    "from collections import Counter\n",
    "def verify_anagrams(s1, s2):\n",
    "    s1 = s1.lower()\n",
    "    dict1 = Counter(s1)\n",
    "    s2 = s2.lower()\n",
    "    dict2 = Counter(s2)\n",
    "    del dict1[' '] # удаляем из словаря пробелы\n",
    "    del dict2[' ']\n",
    "    if( dict1 == dict2):\n",
    "        return True\n",
    "    return False\n",
    "print(verify_anagrams(\"Programming\", \"Gram Ring Mop\"))\n",
    "print(verify_anagrams(\"Hello\", \"Ole Oh\"))"
   ]
  },
  {
   "cell_type": "markdown",
   "metadata": {},
   "source": [
    "### Разминка 1:\n",
    "\n",
    "Напишите регулярное выражение, находящее все числа в строке. Перед числом может быть указан знак и они могут содержать дробную часть."
   ]
  },
  {
   "cell_type": "code",
   "execution_count": 103,
   "metadata": {},
   "outputs": [
    {
     "name": "stdout",
     "output_type": "stream",
     "text": [
      "['122', '-5', '+45', '11.8']\n"
     ]
    }
   ],
   "source": [
    "import re\n",
    "def find_numbers(s):\n",
    "    p = re.findall(r'[-+]?\\d+[.]?\\d*',s)\n",
    "    return p\n",
    "print(find_numbers(\"122trre-5fdff+45fdf11.8\"))\n",
    "# ? не одного или одно вхождение символа\n",
    "# \\d  любое число"
   ]
  },
  {
   "cell_type": "code",
   "execution_count": 112,
   "metadata": {},
   "outputs": [
    {
     "name": "stdout",
     "output_type": "stream",
     "text": [
      "['122', '-5', '+45', '11.8']\n"
     ]
    }
   ],
   "source": [
    "import re\n",
    "def find_numbers(s):\n",
    "    p = re.findall(r'[-+]?\\d+(?:[.]\\d+)?',s)\n",
    "    return p\n",
    "print(find_numbers(\"122trre-5fdff+45fdf11.8\"))\n",
    "# ? не одного или одно вхождение символа\n",
    "# \\d  любое число"
   ]
  },
  {
   "cell_type": "markdown",
   "metadata": {},
   "source": [
    "### Разминка 2:\n",
    "\n",
    "Слово — это последовательность из букв (русских или английских), внутри которой могут быть дефисы.\n",
    "На вход даётся текст, посчитайте, сколько в нём слов.\n",
    "\n",
    "Вход:\n",
    "```python\n",
    "'''Он --- серо-буро-малиновая редиска!! \n",
    ">>>:-> \n",
    "А не кот. \n",
    "www.kot.ru'''\n",
    "```\n",
    "Выход: 9"
   ]
  },
  {
   "cell_type": "code",
   "execution_count": 116,
   "metadata": {},
   "outputs": [
    {
     "name": "stdout",
     "output_type": "stream",
     "text": [
      "['Он', 'серо-буро-малиновая', 'редиска', 'А', 'не', 'кот', 'www', 'kot', 'ru']\n"
     ]
    },
    {
     "data": {
      "text/plain": [
       "9"
      ]
     },
     "execution_count": 116,
     "metadata": {},
     "output_type": "execute_result"
    }
   ],
   "source": [
    "import re\n",
    "def find_words(s):\n",
    "    p = re.findall(r'(?:[A-Za-zА-Яа-я]+-?)+',s)\n",
    "    print(p)\n",
    "    return len(p)\n",
    "text = \"Он --- серо-буро-малиновая редиска!!  >>>:->  А не кот. www.kot.ru\"\n",
    "find_words(text)\n",
    "# если захватывающая группа то выводится только последние соответсвие"
   ]
  },
  {
   "cell_type": "markdown",
   "metadata": {},
   "source": [
    "### Разминка 3:\n",
    "\n",
    "В России применяются регистрационные знаки нескольких видов.\n",
    "Общего в них то, что они состоят из цифр и букв. Причём используются только 12 букв кириллицы, имеющие графические аналоги в латинском алфавите — А, В, Е, К, М, Н, О, Р, С, Т, У и Х.\n",
    "\n",
    "\n",
    "У частных легковых автомобилей номера — это буква, три цифры, две буквы, затем две или три цифры с кодом региона. У такси — две буквы, три цифры, затем две или три цифры с кодом региона. Есть также и другие виды, но в этой задаче они не понадобятся.\n",
    "\n",
    "\n",
    "Вам потребуется определить, является ли последовательность букв корректным номером указанных двух типов, и если является, то каким.\n",
    "\n",
    "\n",
    "На вход даются строки, которые претендуют на то, чтобы быть номером. Определите тип номера. Буквы в номерах — заглавные русские. \n",
    "\n",
    "Примеры:\n",
    "\n",
    "С227НА777 -> Private  \n",
    "КУ22777 -> Taxi  \n",
    "Т22В7477 -> Fail   \n",
    "М227К19У9 -> Fail  \n",
    "?С227НА777 -> Fail  "
   ]
  },
  {
   "cell_type": "code",
   "execution_count": 117,
   "metadata": {},
   "outputs": [
    {
     "name": "stdout",
     "output_type": "stream",
     "text": [
      "Private\n",
      "Taxi\n",
      "Fail\n"
     ]
    }
   ],
   "source": [
    "import re\n",
    "def car_number(s):\n",
    "    if(re.fullmatch(r'([АВЕКМНОРСТУХ]){1}(\\d){3}([АВЕКМНОРСТУХ]){2}(\\d){2,3}',s)):\n",
    "        return \"Private\"\n",
    "    if(re.findall(r'\\A([АВЕКМНОРСТУХ]){2}(\\d){3}(\\d){2,3}\\Z',s)):\n",
    "        return \"Taxi\"\n",
    "    return \"Fail\"\n",
    "print(car_number(\"С227НА777\"))\n",
    "print(car_number(\"КУ22777\"))\n",
    "print(car_number(\"Т22В7477\"))\n",
    "\n",
    "#\\b - граница слова\n",
    "#\\B - НЕ граница слова\n",
    "#\\A - cтрого начало всего текста\n",
    "#\\Z - cтрого конец всего текста\n",
    "# re.fullmatch проверяет чтобы вся строка целиком соответсвовала шаблону"
   ]
  },
  {
   "cell_type": "markdown",
   "metadata": {},
   "source": [
    "### Разминка 4:\n",
    "\n",
    "На вход даётся текст. Выведите слитно первые буквы каждого слова. Буквы необходимо выводить заглавными. \n",
    "\n",
    "Примеры:\n",
    "\n",
    "Московский государственный институт международных отношений -> МГИМО  \n",
    "\n",
    "микоян авиацию снабдил алкоголем,  \n",
    "народ доволен работой авиаконструктора -> МАСАНДРА"
   ]
  },
  {
   "cell_type": "code",
   "execution_count": 118,
   "metadata": {},
   "outputs": [
    {
     "name": "stdout",
     "output_type": "stream",
     "text": [
      "МГИМО\n"
     ]
    }
   ],
   "source": [
    "import re\n",
    "def reduction(s):\n",
    "    p = \"\".join(re.findall(r'(\\b[А-Яа-я])',s)).upper()\n",
    "    print(p)\n",
    "reduction(\"Московский государственный институт международных отношений\")"
   ]
  },
  {
   "cell_type": "markdown",
   "metadata": {},
   "source": [
    "### Задание 1:\n",
    "На вход подаётся текст в виде строки. Нужно вернуть строку, состоящую только из заглавных букв входной строки.  \n",
    "Написать 2 варианта: \n",
    "- строковые методы + генератор списков\n",
    "- регулярные выражения\n",
    "\n",
    "Примеры:\n",
    "\n",
    "\n",
    "```python\n",
    "find_message(\"How are you? Eh, ok. Low or Lower? Ohhh.\") == \"HELLO\"\n",
    "find_message(\"hello world!\") == \"\"\n",
    "```"
   ]
  },
  {
   "cell_type": "code",
   "execution_count": 7,
   "metadata": {},
   "outputs": [
    {
     "name": "stdout",
     "output_type": "stream",
     "text": [
      "HELLO\n",
      "\n",
      "YL\n"
     ]
    }
   ],
   "source": [
    "#регулярные выражения\n",
    "import re\n",
    "def find_message(s):\n",
    "    p = \"\".join(re.findall(r'[A-Z]',s))\n",
    "    return p\n",
    "print(find_message(\"How are you? Eh, ok. Low or Lower? Ohhh.\"))\n",
    "print(find_message(\"hello world!\"))\n",
    "print(find_message(\"hYllo worLd!\"))"
   ]
  },
  {
   "cell_type": "code",
   "execution_count": 119,
   "metadata": {},
   "outputs": [
    {
     "name": "stdout",
     "output_type": "stream",
     "text": [
      "HELLO\n",
      "\n",
      "YL\n"
     ]
    }
   ],
   "source": [
    "#строковые методы + генератор списков\n",
    "def find_message(s):\n",
    "    lst = [n for n in s if n.isupper()]\n",
    "    s1 = \"\".join(lst)\n",
    "    return s1\n",
    "print(find_message(\"How are you? Eh, ok. Low or Lower? Ohhh.\"))\n",
    "print(find_message(\"hello world!\"))\n",
    "print(find_message(\"hYllo worLd!\"))"
   ]
  },
  {
   "cell_type": "markdown",
   "metadata": {},
   "source": [
    "### Задание 2:\n",
    "Дана строка со словами и числами, разделенными пробелами (один пробел между словами и/или числами). Слова состоят только из букв. Вам нужно проверить есть ли в исходной строке три слова подряд. Для примера, в строке \"start 5 one two three 7 end\" есть три слова подряд. \n",
    "Примеры:\n",
    "\n",
    "\n",
    "```python\n",
    "three_words(\"Hello World hello\") == True\n",
    "three_words(\"He is 123 man\") == False\n",
    "three_words(\"1 2 3 4\") == False\n",
    "three_words(\"bla bla bla bla\") == True\n",
    "three_words(\"Hi\") == False\n",
    "```"
   ]
  },
  {
   "cell_type": "code",
   "execution_count": 125,
   "metadata": {},
   "outputs": [
    {
     "name": "stdout",
     "output_type": "stream",
     "text": [
      "[('hello', ' ')]\n",
      "True\n",
      "[]\n",
      "False\n",
      "[]\n",
      "False\n",
      "[('bla ', ' ')]\n",
      "True\n",
      "[]\n",
      "False\n"
     ]
    }
   ],
   "source": [
    "import re\n",
    "def three_words(s):\n",
    "    p = re.findall(r'(:?\\b[A-Za-z]+(\\s)*){3}',s)\n",
    "    if (p):\n",
    "        return True\n",
    "    else:\n",
    "        return False\n",
    "\n",
    "print(three_words(\"Hello World hello\"))\n",
    "print(three_words(\"He is 123 man\"))\n",
    "print(three_words(\"1 2 3 4\"))\n",
    "print(three_words(\"bla bla bla bla\"))\n",
    "print(three_words(\"Hi\"))"
   ]
  },
  {
   "cell_type": "code",
   "execution_count": null,
   "metadata": {
    "collapsed": true
   },
   "outputs": [],
   "source": [
    "\n",
    "#\\b граница слова\n",
    "#\\B не является границей слова\n",
    "#\\A начало данных (независимо от многострочного режима)\n",
    "#\\Z конец данных либо позиция перед последним символом строки, \n",
    "# в случае если это символ перевода строки (независимо от многострочного режима)\n",
    "#\\z конец данных (независимо от многострочного режима)"
   ]
  },
  {
   "cell_type": "markdown",
   "metadata": {},
   "source": [
    "### Задание 3:\n",
    " Проанализировать почтовые логи, чтобы выяснить, сколько писем получено из каждой организации. Организацией в этом задании считается часть e-mail между символом @ и первой точкой. ```stephen.marquard@```**```uct```**```.ac.za```  \n",
    " В файле множество адресов, но нас интересуют только те, что в строках вида 'From *address date time*' (выделено жирным на примере внизу). Строки, подобные выделенной курсивом нужно игнорировать.  \n",
    "\n",
    "-----\n",
    "**```From stephen.marquard@```*```uct```*```.ac.za Sat Jan  5 09:14:16 2008```**  \n",
    "```Return-Path: <postmaster@collab.sakaiproject.org>  \n",
    "Received: from murder (mail.umich.edu [141.211.14.90])  \n",
    "...  \n",
    "Date: Sat, 5 Jan 2008 09:12:18 -0500  \n",
    "X-Authentication-Warning: nakamura.uits.iupui.edu: apache set sender to stephen.marquard@uct.ac.za using -f  \n",
    "To: source@collab.sakaiproject.org  ```  \n",
    "*```From: stephen.marquard@uct.ac.za```* \n",
    "\n"
   ]
  },
  {
   "cell_type": "code",
   "execution_count": 42,
   "metadata": {},
   "outputs": [
    {
     "data": {
      "text/plain": [
       "Counter({'bu': 14,\n",
       "         'caret': 157,\n",
       "         'et': 17,\n",
       "         'fhda': 1,\n",
       "         'gmail': 25,\n",
       "         'indiana': 178,\n",
       "         'iupui': 536,\n",
       "         'lancaster': 14,\n",
       "         'loi': 9,\n",
       "         'media': 56,\n",
       "         'rsmart': 8,\n",
       "         'stanford': 12,\n",
       "         'txstate': 17,\n",
       "         'ucdavis': 1,\n",
       "         'uct': 96,\n",
       "         'ufp': 28,\n",
       "         'umich': 491,\n",
       "         'unicon': 9,\n",
       "         'utoronto': 1,\n",
       "         'vt': 110,\n",
       "         'whitman': 17})"
      ]
     },
     "execution_count": 42,
     "metadata": {},
     "output_type": "execute_result"
    }
   ],
   "source": [
    "from collections import Counter\n",
    "import re\n",
    "def logiMail(txt):\n",
    "    with open(txt) as file:\n",
    "        mail = file.read()\n",
    "    organizations = Counter(re.findall(r'From .*@([a-z]+).', mail))\n",
    "    return organizations\n",
    "logiMail('mbox.txt')"
   ]
  },
  {
   "cell_type": "code",
   "execution_count": null,
   "metadata": {
    "collapsed": true
   },
   "outputs": [],
   "source": []
  },
  {
   "cell_type": "markdown",
   "metadata": {},
   "source": [
    "### Задание 4:\n",
    "Алфавит разделен на гласные и согласные буквы (Да, мы разделили буквы, а не звуки).  \n",
    "Гласные -- A E I O U Y  \n",
    "Согласные -- B C D F G H J K L M N P Q R S T V W X Z  \n",
    "\n",
    "Дан текст с разными словами и/или числами, которые разделены пробелами и знаками пунктуации. Числа не считаются за слова (также как и смесь букв и цифр). Необходимо подсчитать слова, в которых гласные буквы чередуются с согласными (полосатые слова), то есть в таких словах нет двух гласных или двух согласных букв подряд. Слова состоящие из одной буквы - не \"полосатые\" (не считайте их). Регистр букв не имеет значения. \n",
    "\n",
    "**Примеры**  \n",
    "striped(\"My name is ...\") == 3  \n",
    "striped(\"Hello world\") == 0  \n",
    "striped(\"A quantity of striped words.\") == 1, \"of\"  \n",
    "striped(\"Dog,cat,mouse,bird.Human.\") == 3  "
   ]
  },
  {
   "cell_type": "code",
   "execution_count": 22,
   "metadata": {},
   "outputs": [
    {
     "name": "stdout",
     "output_type": "stream",
     "text": [
      "['MY', 'NAME', 'IS']\n",
      "[]\n",
      "['OF']\n",
      "['DOG', 'CAT', 'HUMAN']\n"
     ]
    }
   ],
   "source": [
    "import re\n",
    "def striped(s):\n",
    "    s=s.upper()\n",
    "    return re.findall(r'\\b(?:[BCDFGHJKLMNPQRSTVWXZ][AEIOUY])+[BCDFGHJKLMNPQRSTVWXZ]?\\b|\\b(?:[AEIOUY][BCDFGHJKLMNPQRSTVWXZ])+[AEIOUY]?\\b', s)\n",
    "print(striped(\"My name is ...\"))\n",
    "print(striped(\"Hello world\"))\n",
    "print(striped(\"A quantity of striped words.\"))\n",
    "print(striped(\"Dog,cat,mouse,bird.Human.\"))\n",
    "# + - предыдущий символ повторяется 1 и более раз (плюс Клини) =={1,}\n",
    "# ? - ни одного или одно вхождение символа.\n",
    "# группировка как и '( )', но без обратной ссылки"
   ]
  },
  {
   "cell_type": "markdown",
   "metadata": {},
   "source": [
    "### Задание 5:\n",
    "Хайку — жанр традиционной японской лирической поэзии века, известный с XIV века.\n",
    "Оригинальное японское хайку состоит из 17 слогов, составляющих один столбец иероглифов. Особыми разделительными словами — кирэдзи — текст хайку делится на части из 5, 7 и снова 5 слогов. При переводе хайку на западные языки традиционно вместо разделительного слова использую разрыв строки и, таким образом, хайку записываются как трёхстишия.\n",
    "\n",
    "\n",
    "Перед вами трёхстишия, которые претендуют на то, чтобы быть хайку. В качестве разделителя строк используются символы / . Если разделители делят текст на строки, в которых 5/7/5 слогов, то выведите «Хайку!». Если число строк не равно 3, то выведите строку «Не хайку. Должно быть 3 строки.» Иначе выведите строку вида «Не хайку. В i строке слогов не s, а j.», где строка i — самая ранняя, в которой количество слогов неправильное.\n",
    "\n",
    "\n",
    "Для простоты будем считать, что слогов ровно столько же, сколько гласных, не задумываясь о тонкостях.  \n",
    "\n",
    "\n",
    "**Примеры**  \n",
    "Вечер за окном. / Еще один день прожит. / Жизнь скоротечна... -> Хайку!  \n",
    "Просто текст -> Не хайку. Должно быть 3 строки. \n",
    "Как вишня расцвела! / Она с коня согнала / И князя-гордеца. -> Не хайку. В 1 строке слогов не 5, а 6.   \n",
    "На голой ветке / Ворон сидит одиноко… / Осенний вечер! -> Не хайку. В 2 строке слогов не 7, а 8  \n",
    "Жизнь скоротечна… / Думает ли об этом / Маленький мальчик. -> Хайку!"
   ]
  },
  {
   "cell_type": "code",
   "execution_count": 110,
   "metadata": {},
   "outputs": [
    {
     "data": {
      "text/plain": [
       "'Хайку!'"
      ]
     },
     "execution_count": 110,
     "metadata": {},
     "output_type": "execute_result"
    }
   ],
   "source": [
    "import re\n",
    "def hoku(s):\n",
    "    if(len(re.findall(r'[/]+', s))!=2):\n",
    "        return 'Не хайку. Должно быть 3 строки.'\n",
    "    textStrings = s.split(\"/\")\n",
    "    if(len(re.findall(r'(?i)[ЁУЕЫАОЯИЮЭёуеыаояиюэ]',textStrings[0]))!=5):\n",
    "        return 'Не хайку. В 1 строке слогов не 5, а ' + str(len(re.findall(r'[ЁУЕЫАОЯИЮЭёуеыаояиюэ]',textStrings[0])))\n",
    "    if(len(re.findall(r'[ЁУЕЫАОЯИЮЭёуеыаояиюэ]',textStrings[1]))!=7):\n",
    "        return 'Не хайку. В 2 строке слогов не 5, а ' + str(len(re.findall(r'[ЁУЕЫАОЯИЮЭёуеыаояиюэ]',textStrings[1])))\n",
    "    if(len(re.findall(r'[ЁУЕЫАОЯИЮЭёуеыаояиюэ]',textStrings[2]))!=5):\n",
    "        return 'Не хайку. В 3 строке слогов не 5, а ' + str(len(re.findall(r'[ЁУЕЫАОЯИЮЭёуеыаояиюэ]',textStrings[2])))\n",
    "    else:\n",
    "        return 'Хайку!'\n",
    "text = \"Вечер за окном. / Еще один день прожит. / Жизнь скоротечна.\"\n",
    "hoku(text)"
   ]
  },
  {
   "cell_type": "code",
   "execution_count": null,
   "metadata": {
    "collapsed": true
   },
   "outputs": [],
   "source": []
  }
 ],
 "metadata": {
  "anaconda-cloud": {},
  "kernelspec": {
   "display_name": "Python 3",
   "language": "python",
   "name": "python3"
  },
  "language_info": {
   "codemirror_mode": {
    "name": "ipython",
    "version": 3
   },
   "file_extension": ".py",
   "mimetype": "text/x-python",
   "name": "python",
   "nbconvert_exporter": "python",
   "pygments_lexer": "ipython3",
   "version": "3.6.1"
  }
 },
 "nbformat": 4,
 "nbformat_minor": 1
}

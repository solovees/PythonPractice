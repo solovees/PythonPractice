{
 "cells": [
  {
   "cell_type": "markdown",
   "metadata": {},
   "source": [
    "# Задание 1:\n",
    "Дан массив чисел (float или/и int). Вам нужно найти разницу между самым большим и самым маленьким элементом. Если аргументов нет, то функция возвращает 0 (ноль). "
   ]
  },
  {
   "cell_type": "code",
   "execution_count": 63,
   "metadata": {},
   "outputs": [
    {
     "name": "stdout",
     "output_type": "stream",
     "text": [
      "3\n",
      "0\n"
     ]
    }
   ],
   "source": [
    "\n",
    "def f(*numbers):\n",
    "    if numbers:\n",
    "        return max(numbers)-min(numbers)\n",
    "    else:\n",
    "        return 0\n",
    "print(f(1,3,4))\n",
    "print(f())"
   ]
  },
  {
   "cell_type": "code",
   "execution_count": null,
   "metadata": {
    "collapsed": true
   },
   "outputs": [],
   "source": []
  },
  {
   "cell_type": "markdown",
   "metadata": {},
   "source": [
    "# Задание 2:\n",
    "Дано положительное целое число. Вам необходимо подсчитать произведение всех цифр в этом числе, за исключением нулей.\n",
    "\n",
    "Для примера: Дано число 123405. Результат будет: 120 (не забудьте исключить нули). "
   ]
  },
  {
   "cell_type": "code",
   "execution_count": 131,
   "metadata": {},
   "outputs": [
    {
     "name": "stdout",
     "output_type": "stream",
     "text": [
      "123450\n"
     ]
    },
    {
     "data": {
      "text/plain": [
       "120"
      ]
     },
     "execution_count": 131,
     "metadata": {},
     "output_type": "execute_result"
    }
   ],
   "source": [
    "from functools import reduce # функия reduce принимает два аргумента функцияю и последовательность которую выполнить\n",
    "n = input()\n",
    "lst = [int(digit) for digit in n if digit!='0']\n",
    "reduce(lambda x,y : x*y, lst)\n",
    "#лямбда функция это способ создать анонимную функцию"
   ]
  },
  {
   "cell_type": "markdown",
   "metadata": {},
   "source": [
    "### Задание 3:\n",
    " Теорема о бесконечных обезьянах утверждает, что абстрактная обезьяна, ударяя случайным образом по клавишам пишущей машинки в течение неограниченно долгого времени, рано или поздно напечатает любой наперёд заданный текст, например, полное собрание сочинений Джона Уоллиса (хотя вероятнее какой-нибудь из романов Дэна Брауна).  \n",
    "Предположим, что наши обезьяны печтают, и печатают, и печатают, и уже настрочили множество разнообразных коротких отрывков текста. Давайте проверим их на вхождение осмысленных слов.  \n",
    "Вам предлагается некоторый текст, который может содержать осмысленные слова. Вы должны подсчитать количество таких слов в этом тексте. Слово может стоять отдельно, а может присутствовать как часть другого слова. Регистр букв не имеет значения. Слова даны в нижнем регистре и не повторяются. Если слово встречается в тексте несколько раз, оно должно быть посчитано только один раз.   \n",
    "\n",
    "``count_words(\"How aresjfhdskfhskd you?\", {\"how\", \"are\", \"you\", \"hello\"}) == 3  \n",
    "count_words(\"Bananas, give me bananas!!!\", {\"banana\", \"bananas\"}) == 2  \n",
    "count_words(\"Lorem ipsum dolor sit amet, consectetuer adipiscing elit.\", {\"sum\", \"hamlet\", \"infinity\", \"anything\"}) == 1\n",
    "``\n"
   ]
  },
  {
   "cell_type": "code",
   "execution_count": 129,
   "metadata": {},
   "outputs": [
    {
     "name": "stdout",
     "output_type": "stream",
     "text": [
      "3\n",
      "2\n",
      "1\n"
     ]
    }
   ],
   "source": [
    "#Всторенные функции sum и генератор списоков\n",
    "def count_words(text, words):\n",
    "    d = {}\n",
    "    counter = 0\n",
    "    for e in words:\n",
    "        if( text.lower().count(e) ):\n",
    "            counter += 1\n",
    "    return counter\n",
    "\n",
    "print(count_words(\"How aresjfhdskfhskd you?\", {\"how\", \"are\", \"you\", \"hello\"})) \n",
    "print(count_words(\"Bananas, give me bananas!!!\", {\"banana\", \"bananas\"}))\n",
    "print(count_words(\"Lorem ipsum dolor sit amet, consectetuer adipiscing elit.\", {\"sum\", \"hamlet\", \"infinity\", \"anything\"}))"
   ]
  },
  {
   "cell_type": "code",
   "execution_count": 132,
   "metadata": {},
   "outputs": [
    {
     "data": {
      "text/plain": [
       "True"
      ]
     },
     "execution_count": 132,
     "metadata": {},
     "output_type": "execute_result"
    }
   ],
   "source": [
    "'ab' in 'abc'"
   ]
  },
  {
   "cell_type": "markdown",
   "metadata": {},
   "source": [
    "# Задание 4:\n",
    "Дан текст, который содержит различные буквы и знаки препинания. Вам необходимо найти самую частую букву в тексте. Результатом должна быть буква в нижнем регистре.\n",
    "При поиске самой частой буквы, регистр не имеет значения, так что при подсчете считайте, что \"A\" == \"a\". Убедитесь, что вы не считаете знаки препинания, цифры и пробелы, а только буквы.\n",
    "\n",
    "Если в тексте две и больше буквы с одинаковой частотой, тогда результатом будет буква, которая идет первой в алфавите. Для примера, \"one\" содержит \"o\", \"n\", \"e\" по одному разу, так что мы выбираем \"e\". "
   ]
  },
  {
   "cell_type": "code",
   "execution_count": 4,
   "metadata": {},
   "outputs": [
    {
     "name": "stdout",
     "output_type": "stream",
     "text": [
      "zvdfvdzcfvxcdvzzzzzaaaaaaaygf\n",
      "Counter({'z': 7, 'a': 7, 'v': 4, 'd': 3, 'f': 3, 'c': 2, 'x': 1, 'y': 1, 'g': 1})\n",
      "a\n"
     ]
    }
   ],
   "source": [
    "from collections import Counter\n",
    "import re\n",
    "s = \"zVDFVD zcfv, xcd$%^vZZZz - zaaaaaaaYGf\"\n",
    "def funcCountChar(s):   \n",
    "    s = s.lower()\n",
    "    s = \"\".join(re.findall(r'[a-z]+', s))\n",
    "    d = Counter(s)\n",
    "    print(d)\n",
    "    maxCharValue = max(d.values())\n",
    "    return min([e for e in d if d[e] == maxCharValue])\n",
    "   \n",
    "\n",
    "print(funcCountChar(s))       \n",
    "\n"
   ]
  },
  {
   "cell_type": "markdown",
   "metadata": {},
   "source": [
    "# Задание 5:\n",
    "Определите, все ли элементы массива равны.\n",
    "\n",
    "``\n",
    "all_the_same([1, 1, 1]) == True\n",
    "all_the_same([1, 2, 1]) == False\n",
    "all_the_same(['a', 'a', 'a']) == True\n",
    "all_the_same([]) == True\n",
    "``"
   ]
  },
  {
   "cell_type": "code",
   "execution_count": 136,
   "metadata": {},
   "outputs": [
    {
     "name": "stdout",
     "output_type": "stream",
     "text": [
      "True\n",
      "False\n",
      "True\n",
      "True\n"
     ]
    }
   ],
   "source": [
    "def all_the_same(lst):\n",
    "    if not lst:\n",
    "        return True\n",
    "    else:\n",
    "        x = lst[0]\n",
    "        return all([n == x for n in lst])\n",
    "    \n",
    "def all_the_same2(collection):\n",
    "    return len(set(collection)) <= 1\n",
    "    \n",
    "print(all_the_same2([1, 1, 1]) )\n",
    "print(all_the_same2([1, 2, 1])) \n",
    "print(all_the_same2(['a', 'a', 'a']) )\n",
    "print(all_the_same2([]))\n",
    "#сделать через множства !"
   ]
  },
  {
   "cell_type": "code",
   "execution_count": null,
   "metadata": {
    "collapsed": true
   },
   "outputs": [],
   "source": [
    "return len(set(collection)) == 1"
   ]
  },
  {
   "cell_type": "markdown",
   "metadata": {},
   "source": [
    "# Задание 6:\n",
    "Дан список, который содержит различные числа. Вам необходимо отсортировать их, но отсортировать на основе абсолютных значений в возрастающем порядке.  \n",
    "Для примера, последовательность [-20, -5, 10, 15] будет отсортирована следующим образом [-5, 10, 15, -20]."
   ]
  },
  {
   "cell_type": "code",
   "execution_count": 2,
   "metadata": {},
   "outputs": [
    {
     "data": {
      "text/plain": [
       "[-5, 10, 15, -20]"
      ]
     },
     "execution_count": 2,
     "metadata": {},
     "output_type": "execute_result"
    }
   ],
   "source": [
    "lst = [-20,-5, 10, 15]\n",
    "def last(s):\n",
    "    return abs(s)\n",
    "sorted(lst, key=last)\n",
    "#сортируем последовательность по заданому ключу "
   ]
  },
  {
   "cell_type": "code",
   "execution_count": null,
   "metadata": {
    "collapsed": true
   },
   "outputs": [],
   "source": []
  },
  {
   "cell_type": "markdown",
   "metadata": {},
   "source": [
    "# Задание 7:\n",
    "Верните размер самой длинной подстроки, состоящей из одного символа. Например, строка \"aaabbcaaaa\" содержит 4 подстроки, состоящих из одной повторяющейся буквы: \"aaa\", \"bb\",\"c\" и \"aaaa\". Последняя подстрока самая длинная, поэтому ответ 4.\n",
    "\n",
    "``\n",
    "long_repeat('sdsffffse') == 4\n",
    "long_repeat('ddvvrwwwrggg') == 3\n",
    "``"
   ]
  },
  {
   "cell_type": "code",
   "execution_count": 2,
   "metadata": {},
   "outputs": [
    {
     "name": "stdout",
     "output_type": "stream",
     "text": [
      "4\n",
      "11\n"
     ]
    }
   ],
   "source": [
    "import re\n",
    "def fun(sequence):\n",
    "    return len(sequence[0])\n",
    "def long_repeat(s):\n",
    "    p = re.findall(r'((.)\\2*)', s)\n",
    "    c = max(p , key = fun)\n",
    "    return len(c[0])\n",
    "\n",
    "\n",
    "print(long_repeat('sdsffffse'))\n",
    "print(long_repeat('gggggggddvvrwwwwwwwwwwwrgsggfff'))\n",
    "# К найденному фрагменту в круглых скобках внутри шаблона можно обратиться с помощью механизма обратных ссылок. \n",
    "# Для этого порядковый номер круглых скобок указывается после слэша, например, \\1. Нумерация скобок начинается с 1.\n"
   ]
  },
  {
   "cell_type": "markdown",
   "metadata": {},
   "source": [
    "# Задание 8:\n",
    "Проверьте пароль на безопасность. Пароль считается достаточно стойким, если его длина больше или равна 10 символам, он содержит, как минимум одну цифру, одну букву в верхнем и одну в нижнем регистре. Пароль может содержать только латинские буквы и/или цифры.\n",
    "\n",
    "``\n",
    "checkio('A1213pokl') == False\n",
    "checkio('bAse730onE') == True\n",
    "checkio('asasasasasasasaas') == False\n",
    "checkio('QWERTYqwerty') == False\n",
    "checkio('123456123456') == False\n",
    "checkio('QwErTy911poqqqq') == True\n",
    "``"
   ]
  },
  {
   "cell_type": "code",
   "execution_count": 26,
   "metadata": {},
   "outputs": [
    {
     "name": "stdout",
     "output_type": "stream",
     "text": [
      "False\n",
      "True\n",
      "False\n"
     ]
    }
   ],
   "source": [
    "import re\n",
    "def checkio(s):\n",
    "    if (re.search(r'(?=.*[A-Z])(?=.*\\d)(?=.*[a-z])^[A-Za-z0-9]{10,}$', s)):\n",
    "        return True\n",
    "    else:\n",
    "        return False\n",
    "print(checkio('A1121pokl'))\n",
    "print(checkio('bAse730onE'))\n",
    "print(checkio('asasasasasasasaas'))\n",
    "#Cравнения шаблона с предыдущими и последующими символами (?=...) - положительный просмотр вперед.\n",
    "#\\d — любая цифра.\n",
    "# ^ - привязка к началу строки или подстроки.\n",
    "# $ - привязка к концу строки или подстроки.\n",
    "# .* - несколько любых символов подряд ( от 0 до бесконечности)\n",
    "# ?=.* - проверяем что шаблон, несколько символов(один), находится в любом месте строки(текста), ПОМНИ что ?= не сдвигает позицию,\n",
    "# и при большом количестве условий мы задаем разные условия, к одному символу и это выдает ошибку, поэтому мы пишем .* "
   ]
  },
  {
   "cell_type": "code",
   "execution_count": 141,
   "metadata": {},
   "outputs": [
    {
     "data": {
      "text/plain": [
       "['bAse730']"
      ]
     },
     "execution_count": 141,
     "metadata": {},
     "output_type": "execute_result"
    }
   ],
   "source": [
    "re.findall(r'(b.*?0)','bAse730onE')"
   ]
  },
  {
   "cell_type": "code",
   "execution_count": null,
   "metadata": {
    "collapsed": true
   },
   "outputs": [],
   "source": []
  }
 ],
 "metadata": {
  "anaconda-cloud": {},
  "kernelspec": {
   "display_name": "Python 3",
   "language": "python",
   "name": "python3"
  },
  "language_info": {
   "codemirror_mode": {
    "name": "ipython",
    "version": 3
   },
   "file_extension": ".py",
   "mimetype": "text/x-python",
   "name": "python",
   "nbconvert_exporter": "python",
   "pygments_lexer": "ipython3",
   "version": "3.6.1"
  }
 },
 "nbformat": 4,
 "nbformat_minor": 1
}

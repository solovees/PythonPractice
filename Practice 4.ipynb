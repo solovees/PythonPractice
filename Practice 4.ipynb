{
 "cells": [
  {
   "cell_type": "markdown",
   "metadata": {},
   "source": [
    "## Разделяемые ссылки\n",
    "Настоятельно рекомендую не просто копировать код в ячейки и выполнять, но и смотреть визуализацию на http://pythontutor.com/. Для этого с главной страницы перейдите по ссылке **Start visualizing your code now**\n",
    "\n",
    "Что будет выведено на экран? Сначала попробуйте предсказать, а потом проверьте себя\n",
    "```python\n",
    "s1 = 'Monty'\n",
    "s2 = s1\n",
    "s1 = 'Python'\n",
    "s2\n",
    "```"
   ]
  },
  {
   "cell_type": "code",
   "execution_count": 14,
   "metadata": {},
   "outputs": [
    {
     "data": {
      "text/plain": [
       "'Monty'"
      ]
     },
     "execution_count": 14,
     "metadata": {},
     "output_type": "execute_result"
    }
   ],
   "source": [
    "s1 = 'Monty'\n",
    "s2 = s1\n",
    "s1 = 'Python'\n",
    "s2"
   ]
  },
  {
   "cell_type": "markdown",
   "metadata": {},
   "source": [
    "Что будет выведено на экран? Сначала попробуйте предсказать, а потом проверьте себя\n",
    "```python\n",
    "l1 = ['Monty', 'Python']\n",
    "l2 = l1\n",
    "l1[1] = 'Bodkin'\n",
    "l2\n",
    "```"
   ]
  },
  {
   "cell_type": "code",
   "execution_count": 17,
   "metadata": {},
   "outputs": [
    {
     "data": {
      "text/plain": [
       "['Monty', 'Bodkin']"
      ]
     },
     "execution_count": 17,
     "metadata": {},
     "output_type": "execute_result"
    }
   ],
   "source": [
    "l1 = ['Monty', 'Python']\n",
    "l2 = l1\n",
    "l1[1] = 'Bodkin'\n",
    "l2"
   ]
  },
  {
   "cell_type": "markdown",
   "metadata": {},
   "source": [
    "Что будет выведено на экран теперь? \n",
    "```python\n",
    "empty = []\n",
    "nested = [empty, empty, empty]\n",
    "print(nested)\n",
    "nested[1].append('Python')\n",
    "print(nested)\n",
    "```"
   ]
  },
  {
   "cell_type": "code",
   "execution_count": 18,
   "metadata": {},
   "outputs": [
    {
     "name": "stdout",
     "output_type": "stream",
     "text": [
      "[[], [], []]\n",
      "[['Python'], ['Python'], ['Python']]\n"
     ]
    }
   ],
   "source": [
    "empty = []\n",
    "nested = [empty, empty, empty]\n",
    "print(nested)\n",
    "nested[1].append('Python')\n",
    "print(nested)"
   ]
  },
  {
   "cell_type": "markdown",
   "metadata": {},
   "source": [
    "Используйте умножение, чтобы создать список списков `nested = [[]]*3`. Затем измените один из элементов списка. Какие элементы изменятся? Используйте встроенную функцию `id()`, чтобы выяснить id любого объекта и убедиться, что у всех элементов списка один и тот же id, а значит это один и тот же объект.\n",
    "```python\n",
    "id(nested[0]) == id(nested[1]) == id(nested[2])\n",
    "```"
   ]
  },
  {
   "cell_type": "code",
   "execution_count": null,
   "metadata": {},
   "outputs": [],
   "source": []
  },
  {
   "cell_type": "markdown",
   "metadata": {},
   "source": [
    "Теперь обратите внимание, что если мы присвоим новое значение какому-то элементу списка, то на остальных элементах это не отразится\n",
    "```python\n",
    "nested = [[]]*3\n",
    "nested[1].append('Python')\n",
    "nested[1] = ['Monty']\n",
    "nested\n",
    "```"
   ]
  },
  {
   "cell_type": "code",
   "execution_count": 25,
   "metadata": {},
   "outputs": [
    {
     "data": {
      "text/plain": [
       "[['Python'], ['Monty'], ['Python']]"
      ]
     },
     "execution_count": 25,
     "metadata": {},
     "output_type": "execute_result"
    }
   ],
   "source": [
    "nested = [[]]*3\n",
    "nested[2].append('Python')\n",
    "nested[1] = ['Monty']\n",
    "nested"
   ]
  },
  {
   "cell_type": "markdown",
   "metadata": {},
   "source": [
    "## Равенство\n",
    "```python\n",
    "== vs is\n",
    "```\n",
    "Что будет выведено на экран?\n",
    "```python\n",
    "size = 5\n",
    "python = ['Python']\n",
    "snake_nest = [python] * size\n",
    "print(snake_nest[0] == snake_nest[1] == snake_nest[2] == snake_nest[3] == snake_nest[4])\n",
    "print(snake_nest[0] is snake_nest[1] is snake_nest[2] is snake_nest[3] is snake_nest[4])\n",
    "```"
   ]
  },
  {
   "cell_type": "code",
   "execution_count": 26,
   "metadata": {},
   "outputs": [
    {
     "name": "stdout",
     "output_type": "stream",
     "text": [
      "True\n",
      "True\n"
     ]
    }
   ],
   "source": [
    "size = 5\n",
    "python = ['Python']\n",
    "snake_nest = [python] * size\n",
    "print(snake_nest[0] == snake_nest[1] == snake_nest[2] == snake_nest[3] == snake_nest[4])\n",
    "print(snake_nest[0] is snake_nest[1] is snake_nest[2] is snake_nest[3] is snake_nest[4])"
   ]
  },
  {
   "cell_type": "markdown",
   "metadata": {},
   "source": [
    "Теперь \"подселим\" в наше \"змеиное гнездо\" в случайную позицию другого питона. Все ли питоны идентичны?\n",
    "```python\n",
    "import random\n",
    "position = random.choice(range(size))\n",
    "snake_nest[position] = ['Python']\n",
    "print(snake_nest)\n",
    "print(snake_nest[0] == snake_nest[1] == snake_nest[2] == snake_nest[3] == snake_nest[4])\n",
    "print(snake_nest[0] is snake_nest[1] is snake_nest[2] is snake_nest[3] is snake_nest[4])\n",
    "```"
   ]
  },
  {
   "cell_type": "code",
   "execution_count": 27,
   "metadata": {},
   "outputs": [
    {
     "name": "stdout",
     "output_type": "stream",
     "text": [
      "[['Python'], ['Python'], ['Python'], ['Python'], ['Python']]\n",
      "True\n",
      "False\n"
     ]
    }
   ],
   "source": [
    "import random\n",
    "position = random.choice(range(size))\n",
    "snake_nest[position] = ['Python']\n",
    "print(snake_nest)\n",
    "print(snake_nest[0] == snake_nest[1] == snake_nest[2] == snake_nest[3] == snake_nest[4])\n",
    "print(snake_nest[0] is snake_nest[1] is snake_nest[2] is snake_nest[3] is snake_nest[4])"
   ]
  },
  {
   "cell_type": "markdown",
   "metadata": {},
   "source": [
    "Теперь найдите \"самозванца\"\n",
    "```python\n",
    "[id(snake) for snake in snake_nest]\n",
    "```"
   ]
  },
  {
   "cell_type": "code",
   "execution_count": null,
   "metadata": {},
   "outputs": [],
   "source": []
  },
  {
   "cell_type": "markdown",
   "metadata": {},
   "source": [
    "Сравните 2 куска кода. В чём разница? Что будет выведено в результате выполнения каждого?\n",
    "```python\n",
    "import pprint\n",
    "m, n = 3, 7\n",
    "array = [[set()]*n]*m\n",
    "array[2][5].add('Alice')\n",
    "pprint.pprint(array)\n",
    "\n",
    "array = [[set() for i in range(n)] for j in range(m)]\n",
    "array[2][5].add('Alice')\n",
    "pprint.pprint(array)\n",
    "```"
   ]
  },
  {
   "cell_type": "code",
   "execution_count": 28,
   "metadata": {},
   "outputs": [
    {
     "name": "stdout",
     "output_type": "stream",
     "text": [
      "[[{'Alice'}, {'Alice'}, {'Alice'}, {'Alice'}, {'Alice'}, {'Alice'}, {'Alice'}],\n",
      " [{'Alice'}, {'Alice'}, {'Alice'}, {'Alice'}, {'Alice'}, {'Alice'}, {'Alice'}],\n",
      " [{'Alice'}, {'Alice'}, {'Alice'}, {'Alice'}, {'Alice'}, {'Alice'}, {'Alice'}]]\n",
      "[[set(), set(), set(), set(), set(), set(), set()],\n",
      " [set(), set(), set(), set(), set(), set(), set()],\n",
      " [set(), set(), set(), set(), set(), {'Alice'}, set()]]\n"
     ]
    }
   ],
   "source": [
    "import pprint\n",
    "m, n = 3, 7\n",
    "array = [[set()]*n]*m\n",
    "array[2][5].add('Alice')\n",
    "pprint.pprint(array)\n",
    "\n",
    "array = [[set() for i in range(n)] for j in range(m)]\n",
    "array[2][5].add('Alice')\n",
    "pprint.pprint(array)"
   ]
  },
  {
   "cell_type": "code",
   "execution_count": null,
   "metadata": {
    "collapsed": true
   },
   "outputs": [],
   "source": []
  }
 ],
 "metadata": {
  "anaconda-cloud": {},
  "kernelspec": {
   "display_name": "Python 3",
   "language": "python",
   "name": "python3"
  },
  "language_info": {
   "codemirror_mode": {
    "name": "ipython",
    "version": 3
   },
   "file_extension": ".py",
   "mimetype": "text/x-python",
   "name": "python",
   "nbconvert_exporter": "python",
   "pygments_lexer": "ipython3",
   "version": "3.6.1"
  }
 },
 "nbformat": 4,
 "nbformat_minor": 1
}
